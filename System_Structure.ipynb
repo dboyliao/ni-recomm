{
 "metadata": {
  "name": "",
  "signature": "sha256:be2a18dd0e023aa33a33f274ea2e75b02eb1349acf384ab8eada7c8949f81433"
 },
 "nbformat": 3,
 "nbformat_minor": 0,
 "worksheets": [
  {
   "cells": [
    {
     "cell_type": "markdown",
     "metadata": {},
     "source": [
      "System Overlook\n",
      "===\n",
      "\n",
      "![System Structure: Level 1](https://raw.githubusercontent.com/dboyliao/ni-recomm/master/assets/img/Level1.png)"
     ]
    },
    {
     "cell_type": "markdown",
     "metadata": {},
     "source": [
      "- bin: All "
     ]
    }
   ],
   "metadata": {}
  }
 ]
}