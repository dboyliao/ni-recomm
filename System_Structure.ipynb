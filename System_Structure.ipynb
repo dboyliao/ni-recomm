{
 "metadata": {
  "name": "",
  "signature": "sha256:3c1c4b0276b0fadfcb91c90ee640b5c3e90a901868dae70e2d7f064518480f88"
 },
 "nbformat": 3,
 "nbformat_minor": 0,
 "worksheets": [
  {
   "cells": [
    {
     "cell_type": "markdown",
     "metadata": {},
     "source": [
      "System Overlook\n",
      "===\n",
      "\n",
      "![System Structure: Level 1](https://raw.githubusercontent.com/dboyliao/ni-recomm/master/assets/img/Level1.png)"
     ]
    },
    {
     "cell_type": "markdown",
     "metadata": {},
     "source": [
      "- bin: All binary helper fucntion and script\n",
      "\n",
      "![bin](https://raw.githubusercontent.com/dboyliao/ni-recomm/master/assets/img/bin.png)\n",
      "\n",
      "- ni_recomm: "
     ]
    },
    {
     "cell_type": "code",
     "collapsed": false,
     "input": [],
     "language": "python",
     "metadata": {},
     "outputs": []
    }
   ],
   "metadata": {}
  }
 ]
}