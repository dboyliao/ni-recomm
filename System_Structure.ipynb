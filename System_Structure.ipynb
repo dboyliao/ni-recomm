{
 "metadata": {
  "name": "",
  "signature": "sha256:f6073553ae9d61cd38ee6933f4bdb764660748d3f4612cf8548d26c6b6ff404e"
 },
 "nbformat": 3,
 "nbformat_minor": 0,
 "worksheets": [
  {
   "cells": [
    {
     "cell_type": "markdown",
     "metadata": {},
     "source": [
      "System Overlook\n",
      "===\n",
      "\n",
      "![System Structure: Level 1](https://raw.githubusercontent.com/dboyliao/ni-recomm/master/assets/img/Level1.png)\n",
      "<br>"
     ]
    },
    {
     "cell_type": "markdown",
     "metadata": {},
     "source": [
      "- <font size=\"3\">bin: All binary helper fucntion and script</font>\n",
      "![bin](https://raw.githubusercontent.com/dboyliao/ni-recomm/master/assets/img/bin.png)\n",
      "<br>\n",
      "- <font size=\"3\">ni_recomm: The core module of entire recommendation system.</font>\n",
      "![ni-recomm](https://raw.githubusercontent.com/dboyliao/ni-recomm/master/assets/img/ni-recomm.png)"
     ]
    },
    {
     "cell_type": "markdown",
     "metadata": {},
     "source": [
      "<font size=\"6\">ni_recomm: db</font>\n",
      "===\n",
      "\n",
      "## The <font color=\"green\">*db*</font> submodule\n",
      "\n",
      "_mongo.py:\n",
      "\n",
      "```\n",
      "# import mongo python API.\n",
      "from pymongo import MongoClient\n",
      "# MONGO_DB_SERVER_HOST = localhost by default\n",
      "# MONGO_DB_SERVER_PORT = 27017 by default\n",
      "from ni_recomm.settings import MONGO_DB_SERVER_HOST, MONGO_DB_SERVER_PORT\n",
      "\n",
      "# Initialize MongoClient: mongo_client\n",
      "mongo_client = MongoClient(MONGO_DB_SERVER_HOST, MONGO_DB_SERVER_PORT)\n",
      "# match data base: redundent\n",
      "match_news_db = mongo_client.match\n",
      "# collection \"posts\": collection for all posts.\n",
      "match_news_posts = match_news_db.posts\n",
      "\n",
      "# Recommendation results by simlarity_nbhds method\n",
      "simple_recomm_db = mongo_client.simple_recomm\n",
      "news_similarity_nbhds = simple_recomm_db.news_similarity_nbhds\n",
      "\n",
      "# Recommendation results by knn method.\n",
      "news_similarity_knn = simple_recomm_db.news_similarity_knn\n",
      "\n",
      "# long_term_vav_status API\n",
      "long_term_vav_status = simple_recomm_db.long_term_vav_status\n",
      "# long_term_vav API\n",
      "long_term_vav = simple_recomm_db.long_term_vav\n",
      "\n",
      "recently_vav = simple_recomm_db.recently_vav\n",
      "\n",
      "\n",
      "import pandas as pd\n",
      "\n",
      "# Get all updating dates.\n",
      "def get_all_updated_vav_dates_timestamp():\n",
      "    if long_term_vav_status.find({}, {\"updated_dates\":1}).count() > 0:\n",
      "        return long_term_vav_status.find()[0][\"updated_dates\"]\n",
      "\n",
      "    else:\n",
      "        long_term_vav_status.insert({\"updated_dates\":[]})\n",
      "        return long_term_vav_status.find()[0][\"updated_dates\"]\n",
      "\n",
      "# \n",
      "def insert_updated_dates_timestamp(updated_timestamp_list):\n",
      "    assert isinstance(updated_timestamp_list, list)\n",
      "    exist_list = get_all_updated_vav_dates_timestamp()\n",
      "    filtered_update_list = [xx for xx in updated_timestamp_list if not(xx in exist_list)]\n",
      "    return long_term_vav_status.update({}, {\"$push\":{'updated_dates':{\"$each\":filtered_update_list}}})\n",
      "\n",
      "\n",
      "def remove_updated_dates_timestamp(remove_timestamp_list):\n",
      "    assert isinstance(remove_timestamp_list, list)\n",
      "    return long_term_vav_status.update({}, {\"$pullAll\":{'updated_dates':remove_timestamp_list}})\n",
      "\n",
      "\n",
      "def get_all_news_df(guids=[]):\n",
      "    if len(guids) > 0:\n",
      "        return pd.DataFrame(list(match_news_posts.find({\"guid\": {\"$in\": guids}})))\n",
      "    else:\n",
      "        return pd.DataFrame(list(match_news_posts.find()))\n",
      "\n",
      "\n",
      "def has_new_news_data(old_guids=[]):\n",
      "    return match_news_posts.find({\"guid\": {\"$nin\": old_guids}}).count() > 0\n",
      "\n",
      "\n",
      "def get_all_news_df_except_some_guids(except_guids=[]):\n",
      "    return pd.DataFrame(list(match_news_posts.find({\"guid\": {\"$nin\": except_guids}})))\n",
      "\n",
      "\n",
      "if __name__ == '__main__':\n",
      "    pass\n",
      "```"
     ]
    },
    {
     "cell_type": "code",
     "collapsed": false,
     "input": [
      "from pymongo import MongoClient\n",
      "client = MongoClient(\"p2.twm.numerinfo.com\", 27017)"
     ],
     "language": "python",
     "metadata": {},
     "outputs": [],
     "prompt_number": 3
    },
    {
     "cell_type": "code",
     "collapsed": false,
     "input": [
      "simple_recomm = client[\"simple_recomm\"]\n",
      "long_term_vav = simple_recomm.long_term_vav\n",
      "long_term_vav_status = simple_recomm.long_term_vav_status"
     ],
     "language": "python",
     "metadata": {},
     "outputs": [],
     "prompt_number": 9
    },
    {
     "cell_type": "code",
     "collapsed": false,
     "input": [
      "long_term_vav.find_one()"
     ],
     "language": "python",
     "metadata": {},
     "outputs": [
      {
       "metadata": {},
       "output_type": "pyout",
       "prompt_number": 12,
       "text": [
        "{u'_id': ObjectId('53ec758cad5d283ec2e5dd1a'),\n",
        " u'updated_dates': [u'1407844800', u'1407758400', u'1407931200']}"
       ]
      }
     ],
     "prompt_number": 12
    },
    {
     "cell_type": "code",
     "collapsed": false,
     "input": [
      "long_term_vav_status.find()[0]"
     ],
     "language": "python",
     "metadata": {},
     "outputs": [
      {
       "metadata": {},
       "output_type": "pyout",
       "prompt_number": 15,
       "text": [
        "{u'_id': ObjectId('53ec758cad5d283ec2e5dd1a'),\n",
        " u'updated_dates': [u'1407844800', u'1407758400', u'1407931200']}"
       ]
      }
     ],
     "prompt_number": 15
    },
    {
     "cell_type": "markdown",
     "metadata": {},
     "source": [
      "## The <font color=\"green\">*news_similarity*</font> submodule\n"
     ]
    },
    {
     "cell_type": "code",
     "collapsed": false,
     "input": [],
     "language": "python",
     "metadata": {},
     "outputs": []
    }
   ],
   "metadata": {}
  }
 ]
}